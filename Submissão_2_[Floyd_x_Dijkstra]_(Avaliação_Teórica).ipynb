{
 "cells": [
  {
   "cell_type": "markdown",
   "metadata": {
    "colab_type": "text",
    "id": "L8XFWE7sqhsB"
   },
   "source": [
    "# Projeto e Análise de Algoritmos\n",
    "## Avaliação Teórica de Algoritmos\n"
   ]
  },
  {
   "cell_type": "markdown",
   "metadata": {
    "colab_type": "text",
    "id": "yE6ZbbAVUVFp"
   },
   "source": [
    "Plot Matrix"
   ]
  },
  {
   "cell_type": "code",
   "execution_count": 1,
   "metadata": {
    "colab": {},
    "colab_type": "code",
    "id": "ZN_qgVEUUVw8"
   },
   "outputs": [],
   "source": [
    "import matplotlib.pyplot as plt\n",
    "import numpy as np\n",
    "\n",
    "def plot_matrix(graph):\n",
    "    data = graph\n",
    "    dim = len(data)\n",
    "    fig, ax = plt.subplots(figsize=(dim, dim))\n",
    "    \n",
    "    ax.matshow(data, cmap='binary_r',  interpolation='nearest')\n",
    "    \n",
    "    for (i, j), z in np.ndenumerate(data):\n",
    "        ax.text(j, i, '{:0.1f}'.format(z), ha='center', va='center',\n",
    "                bbox=dict(boxstyle='round', facecolor='white', edgecolor='0.3'))\n",
    "    plt.show()"
   ]
  },
  {
   "cell_type": "markdown",
   "metadata": {
    "colab_type": "text",
    "id": "OSsGNxJJTtvQ"
   },
   "source": [
    "### Floyd Warshall Algorithm"
   ]
  },
  {
   "cell_type": "code",
   "execution_count": 2,
   "metadata": {
    "colab": {},
    "colab_type": "code",
    "id": "s5cTFoMHTtIU"
   },
   "outputs": [],
   "source": [
    "def floyd_warshall(graph):\n",
    "    dist = graph\n",
    "    # Number of vertices in the graph \n",
    "    V = len(graph)\n",
    "\n",
    "    for k in range(V): \n",
    "        for i in range(V): \n",
    "            for j in range(V):\n",
    "                dist[i][j] = min(dist[i][j], dist[i][k] + dist[k][j])\n",
    "    return dist"
   ]
  },
  {
   "cell_type": "markdown",
   "metadata": {
    "colab_type": "text",
    "id": "wYAaEQqgTwbf"
   },
   "source": [
    "### Dijkstra Algorithm"
   ]
  },
  {
   "cell_type": "code",
   "execution_count": 3,
   "metadata": {
    "colab": {},
    "colab_type": "code",
    "id": "EKsdeNf4mVKU"
   },
   "outputs": [],
   "source": [
    "def min_distance(dist, queue):\n",
    "    min_dist = float('inf')\n",
    "    min_index = -1\n",
    "    \n",
    "    for i in range(len(dist)): \n",
    "        if dist[i] < min_dist and i in queue: \n",
    "            min_dist = dist[i] \n",
    "            min_index = i \n",
    "            \n",
    "    return min_index"
   ]
  },
  {
   "cell_type": "code",
   "execution_count": 4,
   "metadata": {
    "colab": {},
    "colab_type": "code",
    "id": "TYHlhsy8mdjt"
   },
   "outputs": [],
   "source": [
    "def dijkstra(source, graph): \n",
    "    V = len(graph)\n",
    "    dist = [float('inf')] * V\n",
    "    dist[source] = 0\n",
    "    \n",
    "    short_path = [-1] * V\n",
    "    \n",
    "    queue = [] \n",
    "    for i in range(V): \n",
    "        queue.append(i)\n",
    "            \n",
    "    while queue: \n",
    "        u = min_distance(dist, queue)  \n",
    "        \n",
    "        try:\n",
    "            queue.remove(u)\n",
    "        except:\n",
    "            break\n",
    "\n",
    "        for v in range(V): \n",
    "            if graph[u][v] and v in queue: \n",
    "                if dist[u] + graph[u][v] < dist[v]: \n",
    "                    dist[v] = dist[u] + graph[u][v] \n",
    "                    short_path[v] = u                        \n",
    "    return dist"
   ]
  },
  {
   "cell_type": "code",
   "execution_count": 5,
   "metadata": {
    "colab": {},
    "colab_type": "code",
    "id": "adcqd5G_q6W4"
   },
   "outputs": [],
   "source": [
    "def n_djikstra(graph):\n",
    "    dist_graph = list()\n",
    "    for i in range(len(graph)):\n",
    "        dist_graph.append(dijkstra(i, graph))\n",
    "\n",
    "    return dist_graph"
   ]
  },
  {
   "cell_type": "markdown",
   "metadata": {
    "colab_type": "text",
    "id": "Hu44zfykq6o2"
   },
   "source": [
    "### Exemplo de execução"
   ]
  },
  {
   "cell_type": "code",
   "execution_count": 6,
   "metadata": {
    "colab": {},
    "colab_type": "code",
    "id": "KoWZTMYBm3FW"
   },
   "outputs": [],
   "source": [
    "INF = float('inf')\n",
    "\n",
    "graph = [\n",
    "    [0,   5,    INF,  10], \n",
    "    [INF, 0,    3,    INF], \n",
    "    [INF, INF,  0,    1], \n",
    "    [INF, INF,  INF,  0] \n",
    "] \n",
    "\n",
    "floyd_warshall_graph = floyd_warshall(graph)\n",
    "n_djikstra_graph = n_djikstra(graph)"
   ]
  },
  {
   "cell_type": "code",
   "execution_count": 7,
   "metadata": {
    "colab": {
     "base_uri": "https://localhost:8080/",
     "height": 34
    },
    "colab_type": "code",
    "id": "8c1UtQ9JwMku",
    "outputId": "4c29ab11-c0f6-4669-b1ed-1d32815abbc6"
   },
   "outputs": [
    {
     "data": {
      "text/plain": [
       "True"
      ]
     },
     "execution_count": 7,
     "metadata": {},
     "output_type": "execute_result"
    }
   ],
   "source": [
    "floyd_warshall_graph == n_djikstra_graph"
   ]
  },
  {
   "cell_type": "markdown",
   "metadata": {
    "colab_type": "text",
    "id": "gYYywjURyKrg"
   },
   "source": [
    "## Análise"
   ]
  },
  {
   "cell_type": "markdown",
   "metadata": {
    "colab_type": "text",
    "id": "9NBJVrSKyzMY"
   },
   "source": [
    "### Execução"
   ]
  },
  {
   "cell_type": "code",
   "execution_count": 8,
   "metadata": {
    "colab": {
     "base_uri": "https://localhost:8080/",
     "height": 272
    },
    "colab_type": "code",
    "id": "q0uhksy6yMv9",
    "outputId": "b0a1002f-5ce0-4daa-bd93-f93bbc645604"
   },
   "outputs": [
    {
     "name": "stdout",
     "output_type": "stream",
     "text": [
      "IT: 1 : [5, 0.0028612613677978516, 0.004105806350708008]\n",
      "IT: 2 : [10, 0.021740198135375977, 0.0262906551361084]\n",
      "IT: 3 : [15, 0.06947636604309082, 0.06087446212768555]\n",
      "IT: 4 : [20, 0.15857291221618652, 0.1600322723388672]\n"
     ]
    }
   ],
   "source": [
    "import random\n",
    "import time\n",
    "from datetime import datetime\n",
    "import numpy as np\n",
    "import math\n",
    "\n",
    "# estrutura dos dados\n",
    "size_time_data = list()\n",
    "cols = ['size', 'floyd_time', 'djikstra_time']\n",
    "\n",
    "# semente aleatoria\n",
    "np.random.seed(42)\n",
    "\n",
    "# menor valor numero de vertices\n",
    "N = 1\n",
    "# maior valor numero de vertices\n",
    "M = 5\n",
    "\n",
    "for i in range(N, M):\n",
    "    \n",
    "    # gera um grafo de n vertices\n",
    "    graph = np.random.randint(i*5, size=(i*5, i*5))\n",
    "\n",
    "    # atribui a diagonal, valores iguais a 0\n",
    "    np.fill_diagonal(graph, 0)\n",
    "\n",
    "    # floyd\n",
    "    start_floyd = time.time()\n",
    "    floyd_warshall(graph)\n",
    "    end_floyd = time.time()\n",
    "\n",
    "    delta_time_floyd = end_floyd - start_floyd\n",
    "\n",
    "    # djikstra\n",
    "    start_djikstra = time.time()\n",
    "    n_djikstra(graph)\n",
    "    end_djikstra = time.time()\n",
    "\n",
    "    delta_time_djikstra = end_djikstra - start_djikstra\n",
    "\n",
    "    size_time_data.append([i*5, delta_time_floyd, delta_time_djikstra])\n",
    "\n",
    "    print('IT: ' + str(i) + ' : ' + str([i*5, delta_time_floyd, delta_time_djikstra]))    "
   ]
  },
  {
   "cell_type": "code",
   "execution_count": 9,
   "metadata": {
    "colab": {},
    "colab_type": "code",
    "id": "JLhUq-4e9YJt"
   },
   "outputs": [],
   "source": [
    "import pandas as pd\n",
    "\n",
    "df_fl_dj = pd.DataFrame(size_time_data, columns=cols)\n",
    "\n",
    "df_fl_dj.to_csv('time_execution_['+str(N)+' - '+str(M)+'].csv')\n",
    "df_fl_dj.to_html('time_execution_['+str(N)+' - '+str(M)+'].html')"
   ]
  },
  {
   "cell_type": "markdown",
   "metadata": {
    "colab_type": "text",
    "id": "7NzhEND4zqKj"
   },
   "source": [
    "### Exibição dos dados"
   ]
  },
  {
   "cell_type": "code",
   "execution_count": 10,
   "metadata": {
    "colab": {},
    "colab_type": "code",
    "id": "TVbYR-BW5X3T"
   },
   "outputs": [],
   "source": [
    "import pandas as pd"
   ]
  },
  {
   "cell_type": "code",
   "execution_count": 11,
   "metadata": {
    "colab": {},
    "colab_type": "code",
    "id": "gZQKycQd0Vh8"
   },
   "outputs": [],
   "source": [
    "df = pd.read_csv('time_execution_[1 - 100].csv', index_col=0)"
   ]
  },
  {
   "cell_type": "code",
   "execution_count": 12,
   "metadata": {},
   "outputs": [
    {
     "data": {
      "text/html": [
       "<div>\n",
       "<style scoped>\n",
       "    .dataframe tbody tr th:only-of-type {\n",
       "        vertical-align: middle;\n",
       "    }\n",
       "\n",
       "    .dataframe tbody tr th {\n",
       "        vertical-align: top;\n",
       "    }\n",
       "\n",
       "    .dataframe thead th {\n",
       "        text-align: right;\n",
       "    }\n",
       "</style>\n",
       "<table border=\"1\" class=\"dataframe\">\n",
       "  <thead>\n",
       "    <tr style=\"text-align: right;\">\n",
       "      <th></th>\n",
       "      <th>size</th>\n",
       "      <th>floyd_time</th>\n",
       "      <th>djikstra_time</th>\n",
       "    </tr>\n",
       "  </thead>\n",
       "  <tbody>\n",
       "    <tr>\n",
       "      <th>34</th>\n",
       "      <td>175</td>\n",
       "      <td>7.484322</td>\n",
       "      <td>8.610443</td>\n",
       "    </tr>\n",
       "    <tr>\n",
       "      <th>36</th>\n",
       "      <td>185</td>\n",
       "      <td>8.802453</td>\n",
       "      <td>10.479988</td>\n",
       "    </tr>\n",
       "    <tr>\n",
       "      <th>38</th>\n",
       "      <td>195</td>\n",
       "      <td>10.026268</td>\n",
       "      <td>12.242806</td>\n",
       "    </tr>\n",
       "    <tr>\n",
       "      <th>51</th>\n",
       "      <td>260</td>\n",
       "      <td>24.232003</td>\n",
       "      <td>34.879626</td>\n",
       "    </tr>\n",
       "    <tr>\n",
       "      <th>72</th>\n",
       "      <td>365</td>\n",
       "      <td>68.267372</td>\n",
       "      <td>121.608824</td>\n",
       "    </tr>\n",
       "    <tr>\n",
       "      <th>75</th>\n",
       "      <td>380</td>\n",
       "      <td>75.090392</td>\n",
       "      <td>138.425215</td>\n",
       "    </tr>\n",
       "    <tr>\n",
       "      <th>94</th>\n",
       "      <td>475</td>\n",
       "      <td>147.833637</td>\n",
       "      <td>332.980330</td>\n",
       "    </tr>\n",
       "  </tbody>\n",
       "</table>\n",
       "</div>"
      ],
      "text/plain": [
       "    size  floyd_time  djikstra_time\n",
       "34   175    7.484322       8.610443\n",
       "36   185    8.802453      10.479988\n",
       "38   195   10.026268      12.242806\n",
       "51   260   24.232003      34.879626\n",
       "72   365   68.267372     121.608824\n",
       "75   380   75.090392     138.425215\n",
       "94   475  147.833637     332.980330"
      ]
     },
     "execution_count": 12,
     "metadata": {},
     "output_type": "execute_result"
    }
   ],
   "source": [
    "df.sample(7).sort_values(by='size')"
   ]
  },
  {
   "cell_type": "code",
   "execution_count": 13,
   "metadata": {},
   "outputs": [
    {
     "data": {
      "text/html": [
       "<div>\n",
       "<style scoped>\n",
       "    .dataframe tbody tr th:only-of-type {\n",
       "        vertical-align: middle;\n",
       "    }\n",
       "\n",
       "    .dataframe tbody tr th {\n",
       "        vertical-align: top;\n",
       "    }\n",
       "\n",
       "    .dataframe thead th {\n",
       "        text-align: right;\n",
       "    }\n",
       "</style>\n",
       "<table border=\"1\" class=\"dataframe\">\n",
       "  <thead>\n",
       "    <tr style=\"text-align: right;\">\n",
       "      <th></th>\n",
       "      <th>size</th>\n",
       "      <th>floyd_time</th>\n",
       "      <th>djikstra_time</th>\n",
       "    </tr>\n",
       "  </thead>\n",
       "  <tbody>\n",
       "    <tr>\n",
       "      <th>94</th>\n",
       "      <td>475</td>\n",
       "      <td>147.833637</td>\n",
       "      <td>332.980330</td>\n",
       "    </tr>\n",
       "    <tr>\n",
       "      <th>95</th>\n",
       "      <td>480</td>\n",
       "      <td>156.650149</td>\n",
       "      <td>346.771951</td>\n",
       "    </tr>\n",
       "    <tr>\n",
       "      <th>96</th>\n",
       "      <td>485</td>\n",
       "      <td>157.245955</td>\n",
       "      <td>344.317552</td>\n",
       "    </tr>\n",
       "    <tr>\n",
       "      <th>97</th>\n",
       "      <td>490</td>\n",
       "      <td>162.342923</td>\n",
       "      <td>373.094669</td>\n",
       "    </tr>\n",
       "    <tr>\n",
       "      <th>98</th>\n",
       "      <td>495</td>\n",
       "      <td>168.708185</td>\n",
       "      <td>391.868629</td>\n",
       "    </tr>\n",
       "  </tbody>\n",
       "</table>\n",
       "</div>"
      ],
      "text/plain": [
       "    size  floyd_time  djikstra_time\n",
       "94   475  147.833637     332.980330\n",
       "95   480  156.650149     346.771951\n",
       "96   485  157.245955     344.317552\n",
       "97   490  162.342923     373.094669\n",
       "98   495  168.708185     391.868629"
      ]
     },
     "execution_count": 13,
     "metadata": {},
     "output_type": "execute_result"
    }
   ],
   "source": [
    "df.tail().sort_values(by='size')"
   ]
  },
  {
   "cell_type": "code",
   "execution_count": 16,
   "metadata": {
    "colab": {},
    "colab_type": "code",
    "id": "c2ORXLAf0mjM"
   },
   "outputs": [],
   "source": [
    "df_fl_dj = df"
   ]
  },
  {
   "cell_type": "code",
   "execution_count": 15,
   "metadata": {
    "colab": {
     "base_uri": "https://localhost:8080/",
     "height": 475
    },
    "colab_type": "code",
    "id": "RrF42e0XzSoL",
    "outputId": "93c47218-ab95-47a9-8134-dcc23f69a199"
   },
   "outputs": [
    {
     "data": {
      "image/png": "[encoded data removed]",
      "text/plain": [
       "<Figure size 1152x504 with 1 Axes>"
      ]
     },
     "metadata": {
      "needs_background": "light"
     },
     "output_type": "display_data"
    }
   ],
   "source": [
    "import matplotlib.pyplot as plt\n",
    "from math import log\n",
    "import numpy as np\n",
    "\n",
    "plt.figure(figsize=(16,7))\n",
    "\n",
    "plt.title('Comparação de tempo de execução dos algorimos')\n",
    "\n",
    "plt.plot(df_fl_dj['size'], df_fl_dj['floyd_time'], \n",
    "        color='green', linestyle='solid')\n",
    "\n",
    "plt.plot(df_fl_dj['size'], df_fl_dj['djikstra_time'], \n",
    "        color='blue', linestyle='solid')\n",
    "\n",
    "\n",
    "plt.xlabel('Tamanho (número de vértices)')\n",
    "plt.ylabel('Tempo (segundos)')\n",
    "\n",
    "plt.legend(['Floyd Warshall', 'n-Djikstra'])\n",
    "\n",
    "plt.savefig('fld-dkt-t(n)-1-100.png')\n",
    "plt.show()"
   ]
  },
  {
   "cell_type": "markdown",
   "metadata": {
    "colab_type": "text",
    "id": "gIjn7WriFtG6"
   },
   "source": []
  },
  {
   "cell_type": "code",
   "execution_count": 23,
   "metadata": {
    "colab": {
     "base_uri": "https://localhost:8080/",
     "height": 475
    },
    "colab_type": "code",
    "id": "r8SOGjYVFgsc",
    "outputId": "b1af3901-4ec1-437e-d154-a7f7c07c4e73"
   },
   "outputs": [
    {
     "data": {
      "image/png": "[encoded data removed]",
      "text/plain": [
       "<Figure size 1152x504 with 2 Axes>"
      ]
     },
     "metadata": {
      "needs_background": "light"
     },
     "output_type": "display_data"
    }
   ],
   "source": [
    "from sklearn.linear_model import LinearRegression\n",
    "import matplotlib.pyplot as plt\n",
    "from math import log\n",
    "import numpy as np\n",
    "import statsmodels.api as sm\n",
    "\n",
    "\n",
    "lx = np.log2(df_fl_dj['size'])\n",
    "\n",
    "lyd = np.log2(df_fl_dj['djikstra_time'])\n",
    "lyf = np.log2(df_fl_dj['floyd_time'])\n",
    "\n",
    "f_model = LinearRegression().fit(lx.values.reshape(-1,1), lyf.values)\n",
    "d_model = LinearRegression().fit(lx.values.reshape(-1,1), lyd.values)\n",
    "\n",
    "# Intervalo de confiabilidade\n",
    "lx_stat = sm.add_constant(lx)\n",
    "res_d = sm.OLS(lyd, lx_stat).fit()\n",
    "res_f = sm.OLS(lyf, lx_stat).fit()\n",
    "\n",
    "plt.figure(figsize=(16,7))\n",
    "\n",
    "plt.subplot(121)\n",
    "\n",
    "plt.title('Análise da inclinação da Reta (Floyd Warshall)')\n",
    "plt.plot(lx, lyf, color='green', linestyle='solid')\n",
    "plt.plot(lx, f_model.intercept_ + f_model.coef_ * lx, color='red', linestyle='dotted')\n",
    "\n",
    "plt.xlabel('$log(n)$')\n",
    "plt.ylabel('$log(T(n))$')\n",
    "\n",
    "plt.legend(['Floyd Warshall', 'Reta de melhor ajuste'])\n",
    "plt.text(3,-8, 'Intervalo (95%)\\n['  + str('{:.4f}'.format(res_f.conf_int(0.05)[0][1])) + ' - ' \n",
    "                                + str('{:.4f}'.format(res_f.conf_int(0.05)[1][1])) + ']', \n",
    "         bbox=dict(facecolor='grey', alpha=0.1))\n",
    "\n",
    "###\n",
    "\n",
    "plt.subplot(122)\n",
    "\n",
    "plt.title('Análise da inclinação da Reta (n-Djikstra)')\n",
    "plt.plot(lx, lyd, color='blue', linestyle='solid')\n",
    "plt.plot(lx, d_model.intercept_ + d_model.coef_ * lx, color='red', linestyle='dotted')\n",
    "\n",
    "plt.xlabel('$log(n)$')\n",
    "plt.ylabel('$log(T(n))$')\n",
    "\n",
    "plt.legend(['n-Djikstra', 'Reta de melhor ajuste'])\n",
    "plt.text(3,-8, 'Intervalo (95%)\\n['  + str('{:.4f}'.format(res_d.conf_int(0.05)[0][1])) + ' - ' \n",
    "                                + str('{:.4f}'.format(res_d.conf_int(0.05)[1][1])) + ']', \n",
    "         bbox=dict(facecolor='grey', alpha=0.1))\n",
    "\n",
    "\n",
    "plt.savefig('fld-dkt-slope-1-100.png')\n",
    "plt.show()"
   ]
  },
  {
   "cell_type": "code",
   "execution_count": null,
   "metadata": {},
   "outputs": [],
   "source": []
  },
  {
   "cell_type": "code",
   "execution_count": null,
   "metadata": {},
   "outputs": [],
   "source": []
  }
 ],
 "metadata": {
  "colab": {
   "collapsed_sections": [],
   "name": "Submissão 2 [Floyd x Dijkstra] (Avaliação Teórica)",
   "provenance": []
  },
  "kernelspec": {
   "display_name": "Python 3",
   "language": "python",
   "name": "python3"
  },
  "language_info": {
   "codemirror_mode": {
    "name": "ipython",
    "version": 3
   },
   "file_extension": ".py",
   "mimetype": "text/x-python",
   "name": "python",
   "nbconvert_exporter": "python",
   "pygments_lexer": "ipython3",
   "version": "3.8.3"
  }
 },
 "nbformat": 4,
 "nbformat_minor": 1
}
